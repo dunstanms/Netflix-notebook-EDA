{
 "cells": [
  {
   "cell_type": "code",
   "execution_count": 1,
   "id": "9db0ca42",
   "metadata": {
    "_cell_guid": "b1076dfc-b9ad-4769-8c92-a6c4dae69d19",
    "_uuid": "8f2839f25d086af736a60e9eeb907d3b93b6e0e5",
    "execution": {
     "iopub.execute_input": "2024-02-27T10:11:00.454449Z",
     "iopub.status.busy": "2024-02-27T10:11:00.453633Z",
     "iopub.status.idle": "2024-02-27T10:11:02.431278Z",
     "shell.execute_reply": "2024-02-27T10:11:02.428588Z"
    },
    "papermill": {
     "duration": 1.988198,
     "end_time": "2024-02-27T10:11:02.434013",
     "exception": false,
     "start_time": "2024-02-27T10:11:00.445815",
     "status": "completed"
    },
    "tags": []
   },
   "outputs": [
    {
     "name": "stdout",
     "output_type": "stream",
     "text": [
      "/kaggle/input/netflix-tv-shows-and-movies/credits.csv\n",
      "/kaggle/input/netflix-tv-shows-and-movies/titles.csv\n"
     ]
    }
   ],
   "source": [
    "# This Python 3 environment comes with many helpful analytics libraries installed\n",
    "# It is defined by the kaggle/python Docker image: https://github.com/kaggle/docker-python\n",
    "# For example, here's several helpful packages to load\n",
    "\n",
    "import numpy as np # linear algebra\n",
    "import pandas as pd # data processing, CSV file I/O (e.g. pd.read_csv)\n",
    "from scipy.stats import zscore\n",
    "import matplotlib.pyplot  as plt\n",
    "# Input data files are available in the read-only \"../input/\" directory\n",
    "# For example, running this (by clicking run or pressing Shift+Enter) will list all files under the input directory\n",
    "\n",
    "import os\n",
    "for dirname, _, filenames in os.walk('/kaggle/input'):\n",
    "    for filename in filenames:\n",
    "        print(os.path.join(dirname, filename))\n",
    "\n",
    "# You can write up to 20GB to the current directory (/kaggle/working/) that gets preserved as output when you create a version using \"Save & Run All\" \n",
    "# You can also write temporary files to /kaggle/temp/, but they won't be saved outside of the current session"
   ]
  },
  {
   "cell_type": "code",
   "execution_count": 2,
   "id": "4a947886",
   "metadata": {
    "execution": {
     "iopub.execute_input": "2024-02-27T10:11:02.447231Z",
     "iopub.status.busy": "2024-02-27T10:11:02.446710Z",
     "iopub.status.idle": "2024-02-27T10:11:02.723685Z",
     "shell.execute_reply": "2024-02-27T10:11:02.722646Z"
    },
    "papermill": {
     "duration": 0.286568,
     "end_time": "2024-02-27T10:11:02.726528",
     "exception": false,
     "start_time": "2024-02-27T10:11:02.439960",
     "status": "completed"
    },
    "tags": []
   },
   "outputs": [],
   "source": [
    "path = \"/kaggle/input/netflix-tv-shows-and-movies/\"\n",
    "credits = pd.read_csv(path + \"credits.csv\")\n",
    "titles = pd.read_csv(path + \"titles.csv\")"
   ]
  },
  {
   "cell_type": "code",
   "execution_count": 3,
   "id": "c76e816d",
   "metadata": {
    "execution": {
     "iopub.execute_input": "2024-02-27T10:11:02.740363Z",
     "iopub.status.busy": "2024-02-27T10:11:02.739648Z",
     "iopub.status.idle": "2024-02-27T10:11:02.779190Z",
     "shell.execute_reply": "2024-02-27T10:11:02.778100Z"
    },
    "papermill": {
     "duration": 0.049492,
     "end_time": "2024-02-27T10:11:02.781823",
     "exception": false,
     "start_time": "2024-02-27T10:11:02.732331",
     "status": "completed"
    },
    "tags": []
   },
   "outputs": [
    {
     "data": {
      "text/plain": [
       "'credit first five'"
      ]
     },
     "metadata": {},
     "output_type": "display_data"
    },
    {
     "data": {
      "text/plain": [
       "' '"
      ]
     },
     "metadata": {},
     "output_type": "display_data"
    },
    {
     "data": {
      "text/html": [
       "<div>\n",
       "<style scoped>\n",
       "    .dataframe tbody tr th:only-of-type {\n",
       "        vertical-align: middle;\n",
       "    }\n",
       "\n",
       "    .dataframe tbody tr th {\n",
       "        vertical-align: top;\n",
       "    }\n",
       "\n",
       "    .dataframe thead th {\n",
       "        text-align: right;\n",
       "    }\n",
       "</style>\n",
       "<table border=\"1\" class=\"dataframe\">\n",
       "  <thead>\n",
       "    <tr style=\"text-align: right;\">\n",
       "      <th></th>\n",
       "      <th>person_id</th>\n",
       "      <th>id</th>\n",
       "      <th>name</th>\n",
       "      <th>character</th>\n",
       "      <th>role</th>\n",
       "    </tr>\n",
       "  </thead>\n",
       "  <tbody>\n",
       "    <tr>\n",
       "      <th>0</th>\n",
       "      <td>3748</td>\n",
       "      <td>tm84618</td>\n",
       "      <td>Robert De Niro</td>\n",
       "      <td>Travis Bickle</td>\n",
       "      <td>ACTOR</td>\n",
       "    </tr>\n",
       "    <tr>\n",
       "      <th>1</th>\n",
       "      <td>14658</td>\n",
       "      <td>tm84618</td>\n",
       "      <td>Jodie Foster</td>\n",
       "      <td>Iris Steensma</td>\n",
       "      <td>ACTOR</td>\n",
       "    </tr>\n",
       "    <tr>\n",
       "      <th>2</th>\n",
       "      <td>7064</td>\n",
       "      <td>tm84618</td>\n",
       "      <td>Albert Brooks</td>\n",
       "      <td>Tom</td>\n",
       "      <td>ACTOR</td>\n",
       "    </tr>\n",
       "    <tr>\n",
       "      <th>3</th>\n",
       "      <td>3739</td>\n",
       "      <td>tm84618</td>\n",
       "      <td>Harvey Keitel</td>\n",
       "      <td>Matthew 'Sport' Higgins</td>\n",
       "      <td>ACTOR</td>\n",
       "    </tr>\n",
       "    <tr>\n",
       "      <th>4</th>\n",
       "      <td>48933</td>\n",
       "      <td>tm84618</td>\n",
       "      <td>Cybill Shepherd</td>\n",
       "      <td>Betsy</td>\n",
       "      <td>ACTOR</td>\n",
       "    </tr>\n",
       "  </tbody>\n",
       "</table>\n",
       "</div>"
      ],
      "text/plain": [
       "   person_id       id             name                character   role\n",
       "0       3748  tm84618   Robert De Niro            Travis Bickle  ACTOR\n",
       "1      14658  tm84618     Jodie Foster            Iris Steensma  ACTOR\n",
       "2       7064  tm84618    Albert Brooks                      Tom  ACTOR\n",
       "3       3739  tm84618    Harvey Keitel  Matthew 'Sport' Higgins  ACTOR\n",
       "4      48933  tm84618  Cybill Shepherd                    Betsy  ACTOR"
      ]
     },
     "metadata": {},
     "output_type": "display_data"
    },
    {
     "data": {
      "text/plain": [
       "'title first five'"
      ]
     },
     "metadata": {},
     "output_type": "display_data"
    },
    {
     "data": {
      "text/plain": [
       "' '"
      ]
     },
     "metadata": {},
     "output_type": "display_data"
    },
    {
     "data": {
      "text/html": [
       "<div>\n",
       "<style scoped>\n",
       "    .dataframe tbody tr th:only-of-type {\n",
       "        vertical-align: middle;\n",
       "    }\n",
       "\n",
       "    .dataframe tbody tr th {\n",
       "        vertical-align: top;\n",
       "    }\n",
       "\n",
       "    .dataframe thead th {\n",
       "        text-align: right;\n",
       "    }\n",
       "</style>\n",
       "<table border=\"1\" class=\"dataframe\">\n",
       "  <thead>\n",
       "    <tr style=\"text-align: right;\">\n",
       "      <th></th>\n",
       "      <th>id</th>\n",
       "      <th>title</th>\n",
       "      <th>type</th>\n",
       "      <th>description</th>\n",
       "      <th>release_year</th>\n",
       "      <th>age_certification</th>\n",
       "      <th>runtime</th>\n",
       "      <th>genres</th>\n",
       "      <th>production_countries</th>\n",
       "      <th>seasons</th>\n",
       "      <th>imdb_id</th>\n",
       "      <th>imdb_score</th>\n",
       "      <th>imdb_votes</th>\n",
       "      <th>tmdb_popularity</th>\n",
       "      <th>tmdb_score</th>\n",
       "    </tr>\n",
       "  </thead>\n",
       "  <tbody>\n",
       "    <tr>\n",
       "      <th>0</th>\n",
       "      <td>ts300399</td>\n",
       "      <td>Five Came Back: The Reference Films</td>\n",
       "      <td>SHOW</td>\n",
       "      <td>This collection includes 12 World War II-era p...</td>\n",
       "      <td>1945</td>\n",
       "      <td>TV-MA</td>\n",
       "      <td>51</td>\n",
       "      <td>['documentation']</td>\n",
       "      <td>['US']</td>\n",
       "      <td>1.0</td>\n",
       "      <td>NaN</td>\n",
       "      <td>NaN</td>\n",
       "      <td>NaN</td>\n",
       "      <td>0.600</td>\n",
       "      <td>NaN</td>\n",
       "    </tr>\n",
       "    <tr>\n",
       "      <th>1</th>\n",
       "      <td>tm84618</td>\n",
       "      <td>Taxi Driver</td>\n",
       "      <td>MOVIE</td>\n",
       "      <td>A mentally unstable Vietnam War veteran works ...</td>\n",
       "      <td>1976</td>\n",
       "      <td>R</td>\n",
       "      <td>114</td>\n",
       "      <td>['drama', 'crime']</td>\n",
       "      <td>['US']</td>\n",
       "      <td>NaN</td>\n",
       "      <td>tt0075314</td>\n",
       "      <td>8.2</td>\n",
       "      <td>808582.0</td>\n",
       "      <td>40.965</td>\n",
       "      <td>8.179</td>\n",
       "    </tr>\n",
       "    <tr>\n",
       "      <th>2</th>\n",
       "      <td>tm154986</td>\n",
       "      <td>Deliverance</td>\n",
       "      <td>MOVIE</td>\n",
       "      <td>Intent on seeing the Cahulawassee River before...</td>\n",
       "      <td>1972</td>\n",
       "      <td>R</td>\n",
       "      <td>109</td>\n",
       "      <td>['drama', 'action', 'thriller', 'european']</td>\n",
       "      <td>['US']</td>\n",
       "      <td>NaN</td>\n",
       "      <td>tt0068473</td>\n",
       "      <td>7.7</td>\n",
       "      <td>107673.0</td>\n",
       "      <td>10.010</td>\n",
       "      <td>7.300</td>\n",
       "    </tr>\n",
       "    <tr>\n",
       "      <th>3</th>\n",
       "      <td>tm127384</td>\n",
       "      <td>Monty Python and the Holy Grail</td>\n",
       "      <td>MOVIE</td>\n",
       "      <td>King Arthur, accompanied by his squire, recrui...</td>\n",
       "      <td>1975</td>\n",
       "      <td>PG</td>\n",
       "      <td>91</td>\n",
       "      <td>['fantasy', 'action', 'comedy']</td>\n",
       "      <td>['GB']</td>\n",
       "      <td>NaN</td>\n",
       "      <td>tt0071853</td>\n",
       "      <td>8.2</td>\n",
       "      <td>534486.0</td>\n",
       "      <td>15.461</td>\n",
       "      <td>7.811</td>\n",
       "    </tr>\n",
       "    <tr>\n",
       "      <th>4</th>\n",
       "      <td>tm120801</td>\n",
       "      <td>The Dirty Dozen</td>\n",
       "      <td>MOVIE</td>\n",
       "      <td>12 American military prisoners in World War II...</td>\n",
       "      <td>1967</td>\n",
       "      <td>NaN</td>\n",
       "      <td>150</td>\n",
       "      <td>['war', 'action']</td>\n",
       "      <td>['GB', 'US']</td>\n",
       "      <td>NaN</td>\n",
       "      <td>tt0061578</td>\n",
       "      <td>7.7</td>\n",
       "      <td>72662.0</td>\n",
       "      <td>20.398</td>\n",
       "      <td>7.600</td>\n",
       "    </tr>\n",
       "  </tbody>\n",
       "</table>\n",
       "</div>"
      ],
      "text/plain": [
       "         id                                title   type  \\\n",
       "0  ts300399  Five Came Back: The Reference Films   SHOW   \n",
       "1   tm84618                          Taxi Driver  MOVIE   \n",
       "2  tm154986                          Deliverance  MOVIE   \n",
       "3  tm127384      Monty Python and the Holy Grail  MOVIE   \n",
       "4  tm120801                      The Dirty Dozen  MOVIE   \n",
       "\n",
       "                                         description  release_year  \\\n",
       "0  This collection includes 12 World War II-era p...          1945   \n",
       "1  A mentally unstable Vietnam War veteran works ...          1976   \n",
       "2  Intent on seeing the Cahulawassee River before...          1972   \n",
       "3  King Arthur, accompanied by his squire, recrui...          1975   \n",
       "4  12 American military prisoners in World War II...          1967   \n",
       "\n",
       "  age_certification  runtime                                       genres  \\\n",
       "0             TV-MA       51                            ['documentation']   \n",
       "1                 R      114                           ['drama', 'crime']   \n",
       "2                 R      109  ['drama', 'action', 'thriller', 'european']   \n",
       "3                PG       91              ['fantasy', 'action', 'comedy']   \n",
       "4               NaN      150                            ['war', 'action']   \n",
       "\n",
       "  production_countries  seasons    imdb_id  imdb_score  imdb_votes  \\\n",
       "0               ['US']      1.0        NaN         NaN         NaN   \n",
       "1               ['US']      NaN  tt0075314         8.2    808582.0   \n",
       "2               ['US']      NaN  tt0068473         7.7    107673.0   \n",
       "3               ['GB']      NaN  tt0071853         8.2    534486.0   \n",
       "4         ['GB', 'US']      NaN  tt0061578         7.7     72662.0   \n",
       "\n",
       "   tmdb_popularity  tmdb_score  \n",
       "0            0.600         NaN  \n",
       "1           40.965       8.179  \n",
       "2           10.010       7.300  \n",
       "3           15.461       7.811  \n",
       "4           20.398       7.600  "
      ]
     },
     "metadata": {},
     "output_type": "display_data"
    }
   ],
   "source": [
    "#Display the first few rows in bith dataframes\n",
    "display(\"credit first five\",\" \",\n",
    "       credits.head(),\n",
    "       \"title first five\", \" \",\n",
    "       titles.head())"
   ]
  },
  {
   "cell_type": "code",
   "execution_count": 4,
   "id": "ebc1d6c2",
   "metadata": {
    "execution": {
     "iopub.execute_input": "2024-02-27T10:11:02.796796Z",
     "iopub.status.busy": "2024-02-27T10:11:02.796050Z",
     "iopub.status.idle": "2024-02-27T10:11:02.866768Z",
     "shell.execute_reply": "2024-02-27T10:11:02.865419Z"
    },
    "papermill": {
     "duration": 0.080779,
     "end_time": "2024-02-27T10:11:02.869035",
     "exception": false,
     "start_time": "2024-02-27T10:11:02.788256",
     "status": "completed"
    },
    "tags": []
   },
   "outputs": [
    {
     "data": {
      "text/plain": [
       "'credit stats'"
      ]
     },
     "metadata": {},
     "output_type": "display_data"
    },
    {
     "data": {
      "text/plain": [
       "' '"
      ]
     },
     "metadata": {},
     "output_type": "display_data"
    },
    {
     "data": {
      "text/html": [
       "<div>\n",
       "<style scoped>\n",
       "    .dataframe tbody tr th:only-of-type {\n",
       "        vertical-align: middle;\n",
       "    }\n",
       "\n",
       "    .dataframe tbody tr th {\n",
       "        vertical-align: top;\n",
       "    }\n",
       "\n",
       "    .dataframe thead th {\n",
       "        text-align: right;\n",
       "    }\n",
       "</style>\n",
       "<table border=\"1\" class=\"dataframe\">\n",
       "  <thead>\n",
       "    <tr style=\"text-align: right;\">\n",
       "      <th></th>\n",
       "      <th>count</th>\n",
       "      <th>mean</th>\n",
       "      <th>std</th>\n",
       "      <th>min</th>\n",
       "      <th>25%</th>\n",
       "      <th>50%</th>\n",
       "      <th>75%</th>\n",
       "      <th>max</th>\n",
       "    </tr>\n",
       "  </thead>\n",
       "  <tbody>\n",
       "    <tr>\n",
       "      <th>person_id</th>\n",
       "      <td>77801.0</td>\n",
       "      <td>529488.806442</td>\n",
       "      <td>643016.669958</td>\n",
       "      <td>7.0</td>\n",
       "      <td>45306.0</td>\n",
       "      <td>198358.0</td>\n",
       "      <td>888096.0</td>\n",
       "      <td>2462818.0</td>\n",
       "    </tr>\n",
       "  </tbody>\n",
       "</table>\n",
       "</div>"
      ],
      "text/plain": [
       "             count           mean            std  min      25%       50%  \\\n",
       "person_id  77801.0  529488.806442  643016.669958  7.0  45306.0  198358.0   \n",
       "\n",
       "                75%        max  \n",
       "person_id  888096.0  2462818.0  "
      ]
     },
     "metadata": {},
     "output_type": "display_data"
    },
    {
     "data": {
      "text/plain": [
       "'title stats'"
      ]
     },
     "metadata": {},
     "output_type": "display_data"
    },
    {
     "data": {
      "text/plain": [
       "' '"
      ]
     },
     "metadata": {},
     "output_type": "display_data"
    },
    {
     "data": {
      "text/html": [
       "<div>\n",
       "<style scoped>\n",
       "    .dataframe tbody tr th:only-of-type {\n",
       "        vertical-align: middle;\n",
       "    }\n",
       "\n",
       "    .dataframe tbody tr th {\n",
       "        vertical-align: top;\n",
       "    }\n",
       "\n",
       "    .dataframe thead th {\n",
       "        text-align: right;\n",
       "    }\n",
       "</style>\n",
       "<table border=\"1\" class=\"dataframe\">\n",
       "  <thead>\n",
       "    <tr style=\"text-align: right;\">\n",
       "      <th></th>\n",
       "      <th>count</th>\n",
       "      <th>mean</th>\n",
       "      <th>std</th>\n",
       "      <th>min</th>\n",
       "      <th>25%</th>\n",
       "      <th>50%</th>\n",
       "      <th>75%</th>\n",
       "      <th>max</th>\n",
       "    </tr>\n",
       "  </thead>\n",
       "  <tbody>\n",
       "    <tr>\n",
       "      <th>release_year</th>\n",
       "      <td>5850.0</td>\n",
       "      <td>2016.417094</td>\n",
       "      <td>6.937726</td>\n",
       "      <td>1945.000000</td>\n",
       "      <td>2016.0000</td>\n",
       "      <td>2018.000</td>\n",
       "      <td>2020.0000</td>\n",
       "      <td>2022.000</td>\n",
       "    </tr>\n",
       "    <tr>\n",
       "      <th>runtime</th>\n",
       "      <td>5850.0</td>\n",
       "      <td>76.888889</td>\n",
       "      <td>39.002509</td>\n",
       "      <td>0.000000</td>\n",
       "      <td>44.0000</td>\n",
       "      <td>83.000</td>\n",
       "      <td>104.0000</td>\n",
       "      <td>240.000</td>\n",
       "    </tr>\n",
       "    <tr>\n",
       "      <th>seasons</th>\n",
       "      <td>2106.0</td>\n",
       "      <td>2.162868</td>\n",
       "      <td>2.689041</td>\n",
       "      <td>1.000000</td>\n",
       "      <td>1.0000</td>\n",
       "      <td>1.000</td>\n",
       "      <td>2.0000</td>\n",
       "      <td>42.000</td>\n",
       "    </tr>\n",
       "    <tr>\n",
       "      <th>imdb_score</th>\n",
       "      <td>5368.0</td>\n",
       "      <td>6.510861</td>\n",
       "      <td>1.163826</td>\n",
       "      <td>1.500000</td>\n",
       "      <td>5.8000</td>\n",
       "      <td>6.600</td>\n",
       "      <td>7.3000</td>\n",
       "      <td>9.600</td>\n",
       "    </tr>\n",
       "    <tr>\n",
       "      <th>imdb_votes</th>\n",
       "      <td>5352.0</td>\n",
       "      <td>23439.382474</td>\n",
       "      <td>95820.470909</td>\n",
       "      <td>5.000000</td>\n",
       "      <td>516.7500</td>\n",
       "      <td>2233.500</td>\n",
       "      <td>9494.0000</td>\n",
       "      <td>2294231.000</td>\n",
       "    </tr>\n",
       "    <tr>\n",
       "      <th>tmdb_popularity</th>\n",
       "      <td>5759.0</td>\n",
       "      <td>22.637925</td>\n",
       "      <td>81.680263</td>\n",
       "      <td>0.009442</td>\n",
       "      <td>2.7285</td>\n",
       "      <td>6.821</td>\n",
       "      <td>16.5900</td>\n",
       "      <td>2274.044</td>\n",
       "    </tr>\n",
       "    <tr>\n",
       "      <th>tmdb_score</th>\n",
       "      <td>5539.0</td>\n",
       "      <td>6.829175</td>\n",
       "      <td>1.170391</td>\n",
       "      <td>0.500000</td>\n",
       "      <td>6.1000</td>\n",
       "      <td>6.900</td>\n",
       "      <td>7.5375</td>\n",
       "      <td>10.000</td>\n",
       "    </tr>\n",
       "  </tbody>\n",
       "</table>\n",
       "</div>"
      ],
      "text/plain": [
       "                  count          mean           std          min        25%  \\\n",
       "release_year     5850.0   2016.417094      6.937726  1945.000000  2016.0000   \n",
       "runtime          5850.0     76.888889     39.002509     0.000000    44.0000   \n",
       "seasons          2106.0      2.162868      2.689041     1.000000     1.0000   \n",
       "imdb_score       5368.0      6.510861      1.163826     1.500000     5.8000   \n",
       "imdb_votes       5352.0  23439.382474  95820.470909     5.000000   516.7500   \n",
       "tmdb_popularity  5759.0     22.637925     81.680263     0.009442     2.7285   \n",
       "tmdb_score       5539.0      6.829175      1.170391     0.500000     6.1000   \n",
       "\n",
       "                      50%        75%          max  \n",
       "release_year     2018.000  2020.0000     2022.000  \n",
       "runtime            83.000   104.0000      240.000  \n",
       "seasons             1.000     2.0000       42.000  \n",
       "imdb_score          6.600     7.3000        9.600  \n",
       "imdb_votes       2233.500  9494.0000  2294231.000  \n",
       "tmdb_popularity     6.821    16.5900     2274.044  \n",
       "tmdb_score          6.900     7.5375       10.000  "
      ]
     },
     "metadata": {},
     "output_type": "display_data"
    }
   ],
   "source": [
    "#Summary stats for num values\n",
    "display(\"credit stats\",\" \",\n",
    "       credits.describe().T,\n",
    "        \"title stats\", \" \",\n",
    "        titles.describe().T\n",
    "       )"
   ]
  },
  {
   "cell_type": "code",
   "execution_count": 5,
   "id": "b03e86d6",
   "metadata": {
    "execution": {
     "iopub.execute_input": "2024-02-27T10:11:02.887191Z",
     "iopub.status.busy": "2024-02-27T10:11:02.886011Z",
     "iopub.status.idle": "2024-02-27T10:11:02.945193Z",
     "shell.execute_reply": "2024-02-27T10:11:02.944437Z"
    },
    "papermill": {
     "duration": 0.070295,
     "end_time": "2024-02-27T10:11:02.947048",
     "exception": false,
     "start_time": "2024-02-27T10:11:02.876753",
     "status": "completed"
    },
    "tags": []
   },
   "outputs": [
    {
     "name": "stdout",
     "output_type": "stream",
     "text": [
      "<class 'pandas.core.frame.DataFrame'>\n",
      "RangeIndex: 77801 entries, 0 to 77800\n",
      "Data columns (total 5 columns):\n",
      " #   Column     Non-Null Count  Dtype \n",
      "---  ------     --------------  ----- \n",
      " 0   person_id  77801 non-null  int64 \n",
      " 1   id         77801 non-null  object\n",
      " 2   name       77801 non-null  object\n",
      " 3   character  68029 non-null  object\n",
      " 4   role       77801 non-null  object\n",
      "dtypes: int64(1), object(4)\n",
      "memory usage: 3.0+ MB\n",
      "<class 'pandas.core.frame.DataFrame'>\n",
      "RangeIndex: 5850 entries, 0 to 5849\n",
      "Data columns (total 15 columns):\n",
      " #   Column                Non-Null Count  Dtype  \n",
      "---  ------                --------------  -----  \n",
      " 0   id                    5850 non-null   object \n",
      " 1   title                 5849 non-null   object \n",
      " 2   type                  5850 non-null   object \n",
      " 3   description           5832 non-null   object \n",
      " 4   release_year          5850 non-null   int64  \n",
      " 5   age_certification     3231 non-null   object \n",
      " 6   runtime               5850 non-null   int64  \n",
      " 7   genres                5850 non-null   object \n",
      " 8   production_countries  5850 non-null   object \n",
      " 9   seasons               2106 non-null   float64\n",
      " 10  imdb_id               5447 non-null   object \n",
      " 11  imdb_score            5368 non-null   float64\n",
      " 12  imdb_votes            5352 non-null   float64\n",
      " 13  tmdb_popularity       5759 non-null   float64\n",
      " 14  tmdb_score            5539 non-null   float64\n",
      "dtypes: float64(5), int64(2), object(8)\n",
      "memory usage: 685.7+ KB\n"
     ]
    },
    {
     "data": {
      "text/plain": [
       "'credit information'"
      ]
     },
     "metadata": {},
     "output_type": "display_data"
    },
    {
     "data": {
      "text/plain": [
       "' '"
      ]
     },
     "metadata": {},
     "output_type": "display_data"
    },
    {
     "data": {
      "text/plain": [
       "None"
      ]
     },
     "metadata": {},
     "output_type": "display_data"
    },
    {
     "data": {
      "text/plain": [
       "'title information'"
      ]
     },
     "metadata": {},
     "output_type": "display_data"
    },
    {
     "data": {
      "text/plain": [
       "' '"
      ]
     },
     "metadata": {},
     "output_type": "display_data"
    },
    {
     "data": {
      "text/plain": [
       "None"
      ]
     },
     "metadata": {},
     "output_type": "display_data"
    }
   ],
   "source": [
    "#Check info on column names and data types\n",
    "display(\"credit information\", \" \",\n",
    "       credits.info(),\n",
    "       \"title information\", \" \",\n",
    "       titles.info()\n",
    "       )"
   ]
  },
  {
   "cell_type": "code",
   "execution_count": 6,
   "id": "3702d1fd",
   "metadata": {
    "execution": {
     "iopub.execute_input": "2024-02-27T10:11:02.964310Z",
     "iopub.status.busy": "2024-02-27T10:11:02.963875Z",
     "iopub.status.idle": "2024-02-27T10:11:03.003403Z",
     "shell.execute_reply": "2024-02-27T10:11:03.002269Z"
    },
    "papermill": {
     "duration": 0.051077,
     "end_time": "2024-02-27T10:11:03.005765",
     "exception": false,
     "start_time": "2024-02-27T10:11:02.954688",
     "status": "completed"
    },
    "tags": []
   },
   "outputs": [
    {
     "data": {
      "text/plain": [
       "'credit missing vals'"
      ]
     },
     "metadata": {},
     "output_type": "display_data"
    },
    {
     "data": {
      "text/plain": [
       "' '"
      ]
     },
     "metadata": {},
     "output_type": "display_data"
    },
    {
     "data": {
      "text/plain": [
       "person_id       0\n",
       "id              0\n",
       "name            0\n",
       "character    9772\n",
       "role            0\n",
       "dtype: int64"
      ]
     },
     "metadata": {},
     "output_type": "display_data"
    },
    {
     "data": {
      "text/plain": [
       "'title missing values'"
      ]
     },
     "metadata": {},
     "output_type": "display_data"
    },
    {
     "data": {
      "text/plain": [
       "' '"
      ]
     },
     "metadata": {},
     "output_type": "display_data"
    },
    {
     "data": {
      "text/plain": [
       "id                         0\n",
       "title                      1\n",
       "type                       0\n",
       "description               18\n",
       "release_year               0\n",
       "age_certification       2619\n",
       "runtime                    0\n",
       "genres                     0\n",
       "production_countries       0\n",
       "seasons                 3744\n",
       "imdb_id                  403\n",
       "imdb_score               482\n",
       "imdb_votes               498\n",
       "tmdb_popularity           91\n",
       "tmdb_score               311\n",
       "dtype: int64"
      ]
     },
     "metadata": {},
     "output_type": "display_data"
    }
   ],
   "source": [
    "#Check missing values\n",
    "display(\"credit missing vals\",\" \",\n",
    "       credits.isna().sum(),\n",
    "        \"title missing values\", \" \",\n",
    "        titles.isna().sum()\n",
    "       )"
   ]
  },
  {
   "cell_type": "code",
   "execution_count": 7,
   "id": "84cc939d",
   "metadata": {
    "execution": {
     "iopub.execute_input": "2024-02-27T10:11:03.024863Z",
     "iopub.status.busy": "2024-02-27T10:11:03.024395Z",
     "iopub.status.idle": "2024-02-27T10:11:03.045413Z",
     "shell.execute_reply": "2024-02-27T10:11:03.044134Z"
    },
    "papermill": {
     "duration": 0.032896,
     "end_time": "2024-02-27T10:11:03.047334",
     "exception": false,
     "start_time": "2024-02-27T10:11:03.014438",
     "status": "completed"
    },
    "tags": []
   },
   "outputs": [
    {
     "data": {
      "text/plain": [
       "'credit dtypes'"
      ]
     },
     "metadata": {},
     "output_type": "display_data"
    },
    {
     "data": {
      "text/plain": [
       "' '"
      ]
     },
     "metadata": {},
     "output_type": "display_data"
    },
    {
     "data": {
      "text/plain": [
       "person_id     int64\n",
       "id           object\n",
       "name         object\n",
       "character    object\n",
       "role         object\n",
       "dtype: object"
      ]
     },
     "metadata": {},
     "output_type": "display_data"
    },
    {
     "data": {
      "text/plain": [
       "'title dtypes'"
      ]
     },
     "metadata": {},
     "output_type": "display_data"
    },
    {
     "data": {
      "text/plain": [
       "' '"
      ]
     },
     "metadata": {},
     "output_type": "display_data"
    },
    {
     "data": {
      "text/plain": [
       "id                       object\n",
       "title                    object\n",
       "type                     object\n",
       "description              object\n",
       "release_year              int64\n",
       "age_certification        object\n",
       "runtime                   int64\n",
       "genres                   object\n",
       "production_countries     object\n",
       "seasons                 float64\n",
       "imdb_id                  object\n",
       "imdb_score              float64\n",
       "imdb_votes              float64\n",
       "tmdb_popularity         float64\n",
       "tmdb_score              float64\n",
       "dtype: object"
      ]
     },
     "metadata": {},
     "output_type": "display_data"
    }
   ],
   "source": [
    "display(\"credit dtypes\",\" \",\n",
    "       credits.dtypes,\n",
    "        \"title dtypes\", \" \",\n",
    "        titles.dtypes\n",
    "       )"
   ]
  },
  {
   "cell_type": "code",
   "execution_count": 8,
   "id": "e336a3cf",
   "metadata": {
    "execution": {
     "iopub.execute_input": "2024-02-27T10:11:03.069078Z",
     "iopub.status.busy": "2024-02-27T10:11:03.068669Z",
     "iopub.status.idle": "2024-02-27T10:11:03.080399Z",
     "shell.execute_reply": "2024-02-27T10:11:03.079100Z"
    },
    "papermill": {
     "duration": 0.026162,
     "end_time": "2024-02-27T10:11:03.082792",
     "exception": false,
     "start_time": "2024-02-27T10:11:03.056630",
     "status": "completed"
    },
    "tags": []
   },
   "outputs": [],
   "source": [
    "#Filling missing values in the title data\n",
    "# titles[\"age_certification\"]=titles[\"age_certification\"].fillna(\"Unknown\", inplace=True)\n",
    "titles.fillna({\"age_certification\": \"Unknown\", \"title\" :\"Unknown\" ,\"imdb_id\": \"Unknown\", \"description\":\"Unknown\"}, inplace=True)#New syntax as recommended by pandas 3.0\n"
   ]
  },
  {
   "cell_type": "code",
   "execution_count": 9,
   "id": "1fb4b54c",
   "metadata": {
    "execution": {
     "iopub.execute_input": "2024-02-27T10:11:03.102931Z",
     "iopub.status.busy": "2024-02-27T10:11:03.102488Z",
     "iopub.status.idle": "2024-02-27T10:11:03.115389Z",
     "shell.execute_reply": "2024-02-27T10:11:03.114162Z"
    },
    "papermill": {
     "duration": 0.026059,
     "end_time": "2024-02-27T10:11:03.117915",
     "exception": false,
     "start_time": "2024-02-27T10:11:03.091856",
     "status": "completed"
    },
    "tags": []
   },
   "outputs": [],
   "source": [
    "numerical_columns=titles.select_dtypes(include=['number']).columns\n",
    "\n",
    "for col in numerical_columns:\n",
    "    median_val=titles[col].median()\n",
    "    titles[col] = titles[col].fillna(median_val)\n",
    "\n"
   ]
  },
  {
   "cell_type": "code",
   "execution_count": 10,
   "id": "1195eb1e",
   "metadata": {
    "execution": {
     "iopub.execute_input": "2024-02-27T10:11:03.138114Z",
     "iopub.status.busy": "2024-02-27T10:11:03.137659Z",
     "iopub.status.idle": "2024-02-27T10:11:03.154884Z",
     "shell.execute_reply": "2024-02-27T10:11:03.153674Z"
    },
    "papermill": {
     "duration": 0.030521,
     "end_time": "2024-02-27T10:11:03.157582",
     "exception": false,
     "start_time": "2024-02-27T10:11:03.127061",
     "status": "completed"
    },
    "tags": []
   },
   "outputs": [
    {
     "name": "stdout",
     "output_type": "stream",
     "text": [
      "<class 'pandas.core.frame.DataFrame'>\n",
      "RangeIndex: 5850 entries, 0 to 5849\n",
      "Data columns (total 15 columns):\n",
      " #   Column                Non-Null Count  Dtype  \n",
      "---  ------                --------------  -----  \n",
      " 0   id                    5850 non-null   object \n",
      " 1   title                 5850 non-null   object \n",
      " 2   type                  5850 non-null   object \n",
      " 3   description           5850 non-null   object \n",
      " 4   release_year          5850 non-null   int64  \n",
      " 5   age_certification     5850 non-null   object \n",
      " 6   runtime               5850 non-null   int64  \n",
      " 7   genres                5850 non-null   object \n",
      " 8   production_countries  5850 non-null   object \n",
      " 9   seasons               5850 non-null   float64\n",
      " 10  imdb_id               5850 non-null   object \n",
      " 11  imdb_score            5850 non-null   float64\n",
      " 12  imdb_votes            5850 non-null   float64\n",
      " 13  tmdb_popularity       5850 non-null   float64\n",
      " 14  tmdb_score            5850 non-null   float64\n",
      "dtypes: float64(5), int64(2), object(8)\n",
      "memory usage: 685.7+ KB\n"
     ]
    }
   ],
   "source": [
    "titles.info()"
   ]
  },
  {
   "cell_type": "code",
   "execution_count": 11,
   "id": "dc9201c7",
   "metadata": {
    "execution": {
     "iopub.execute_input": "2024-02-27T10:11:03.178672Z",
     "iopub.status.busy": "2024-02-27T10:11:03.177928Z",
     "iopub.status.idle": "2024-02-27T10:11:03.184481Z",
     "shell.execute_reply": "2024-02-27T10:11:03.183594Z"
    },
    "papermill": {
     "duration": 0.019488,
     "end_time": "2024-02-27T10:11:03.186526",
     "exception": false,
     "start_time": "2024-02-27T10:11:03.167038",
     "status": "completed"
    },
    "tags": []
   },
   "outputs": [
    {
     "data": {
      "text/plain": [
       "2"
      ]
     },
     "execution_count": 11,
     "metadata": {},
     "output_type": "execute_result"
    }
   ],
   "source": [
    "titles.ndim"
   ]
  },
  {
   "cell_type": "code",
   "execution_count": 12,
   "id": "f5caaad3",
   "metadata": {
    "collapsed": true,
    "execution": {
     "iopub.execute_input": "2024-02-27T10:11:03.208270Z",
     "iopub.status.busy": "2024-02-27T10:11:03.207043Z",
     "iopub.status.idle": "2024-02-27T10:11:03.216071Z",
     "shell.execute_reply": "2024-02-27T10:11:03.215136Z"
    },
    "jupyter": {
     "outputs_hidden": true
    },
    "papermill": {
     "duration": 0.022516,
     "end_time": "2024-02-27T10:11:03.218375",
     "exception": false,
     "start_time": "2024-02-27T10:11:03.195859",
     "status": "completed"
    },
    "tags": []
   },
   "outputs": [
    {
     "data": {
      "text/plain": [
       "0             Five Came Back: The Reference Films\n",
       "1                                     Taxi Driver\n",
       "2                                     Deliverance\n",
       "3                 Monty Python and the Holy Grail\n",
       "4                                 The Dirty Dozen\n",
       "                          ...                    \n",
       "5845                                    Fine Wine\n",
       "5846                                  C/O Kaadhal\n",
       "5847                                      Lokillo\n",
       "5848    Dad Stop Embarrassing Me - The Afterparty\n",
       "5849           Mighty Little Bheem: Kite Festival\n",
       "Name: title, Length: 5850, dtype: object"
      ]
     },
     "execution_count": 12,
     "metadata": {},
     "output_type": "execute_result"
    }
   ],
   "source": [
    "titles.iloc[:,1]"
   ]
  },
  {
   "cell_type": "code",
   "execution_count": null,
   "id": "275c16e5",
   "metadata": {
    "papermill": {
     "duration": 0.009267,
     "end_time": "2024-02-27T10:11:03.237529",
     "exception": false,
     "start_time": "2024-02-27T10:11:03.228262",
     "status": "completed"
    },
    "tags": []
   },
   "outputs": [],
   "source": []
  },
  {
   "cell_type": "raw",
   "id": "38359f7a",
   "metadata": {
    "execution": {
     "iopub.execute_input": "2024-02-27T09:21:13.365419Z",
     "iopub.status.busy": "2024-02-27T09:21:13.365072Z",
     "iopub.status.idle": "2024-02-27T09:21:13.376507Z",
     "shell.execute_reply": "2024-02-27T09:21:13.375597Z",
     "shell.execute_reply.started": "2024-02-27T09:21:13.365396Z"
    },
    "papermill": {
     "duration": 0.009339,
     "end_time": "2024-02-27T10:11:03.256825",
     "exception": false,
     "start_time": "2024-02-27T10:11:03.247486",
     "status": "completed"
    },
    "tags": []
   },
   "source": [
    "titles.isna().sum()"
   ]
  },
  {
   "cell_type": "code",
   "execution_count": 13,
   "id": "4c5eb9a6",
   "metadata": {
    "execution": {
     "iopub.execute_input": "2024-02-27T10:11:03.278557Z",
     "iopub.status.busy": "2024-02-27T10:11:03.277353Z",
     "iopub.status.idle": "2024-02-27T10:11:03.296822Z",
     "shell.execute_reply": "2024-02-27T10:11:03.295614Z"
    },
    "papermill": {
     "duration": 0.032894,
     "end_time": "2024-02-27T10:11:03.299254",
     "exception": false,
     "start_time": "2024-02-27T10:11:03.266360",
     "status": "completed"
    },
    "tags": []
   },
   "outputs": [
    {
     "data": {
      "text/html": [
       "<div>\n",
       "<style scoped>\n",
       "    .dataframe tbody tr th:only-of-type {\n",
       "        vertical-align: middle;\n",
       "    }\n",
       "\n",
       "    .dataframe tbody tr th {\n",
       "        vertical-align: top;\n",
       "    }\n",
       "\n",
       "    .dataframe thead th {\n",
       "        text-align: right;\n",
       "    }\n",
       "</style>\n",
       "<table border=\"1\" class=\"dataframe\">\n",
       "  <thead>\n",
       "    <tr style=\"text-align: right;\">\n",
       "      <th></th>\n",
       "      <th>title</th>\n",
       "      <th>release_year</th>\n",
       "      <th>runtime</th>\n",
       "      <th>imdb_score</th>\n",
       "    </tr>\n",
       "  </thead>\n",
       "  <tbody>\n",
       "    <tr>\n",
       "      <th>0</th>\n",
       "      <td>Five Came Back: The Reference Films</td>\n",
       "      <td>1945</td>\n",
       "      <td>51</td>\n",
       "      <td>6.6</td>\n",
       "    </tr>\n",
       "    <tr>\n",
       "      <th>1</th>\n",
       "      <td>Taxi Driver</td>\n",
       "      <td>1976</td>\n",
       "      <td>114</td>\n",
       "      <td>8.2</td>\n",
       "    </tr>\n",
       "    <tr>\n",
       "      <th>2</th>\n",
       "      <td>Deliverance</td>\n",
       "      <td>1972</td>\n",
       "      <td>109</td>\n",
       "      <td>7.7</td>\n",
       "    </tr>\n",
       "    <tr>\n",
       "      <th>3</th>\n",
       "      <td>Monty Python and the Holy Grail</td>\n",
       "      <td>1975</td>\n",
       "      <td>91</td>\n",
       "      <td>8.2</td>\n",
       "    </tr>\n",
       "    <tr>\n",
       "      <th>4</th>\n",
       "      <td>The Dirty Dozen</td>\n",
       "      <td>1967</td>\n",
       "      <td>150</td>\n",
       "      <td>7.7</td>\n",
       "    </tr>\n",
       "    <tr>\n",
       "      <th>5</th>\n",
       "      <td>Monty Python's Flying Circus</td>\n",
       "      <td>1969</td>\n",
       "      <td>30</td>\n",
       "      <td>8.8</td>\n",
       "    </tr>\n",
       "    <tr>\n",
       "      <th>6</th>\n",
       "      <td>Life of Brian</td>\n",
       "      <td>1979</td>\n",
       "      <td>94</td>\n",
       "      <td>8.0</td>\n",
       "    </tr>\n",
       "    <tr>\n",
       "      <th>7</th>\n",
       "      <td>Dirty Harry</td>\n",
       "      <td>1971</td>\n",
       "      <td>102</td>\n",
       "      <td>7.7</td>\n",
       "    </tr>\n",
       "    <tr>\n",
       "      <th>8</th>\n",
       "      <td>Bonnie and Clyde</td>\n",
       "      <td>1967</td>\n",
       "      <td>110</td>\n",
       "      <td>7.7</td>\n",
       "    </tr>\n",
       "    <tr>\n",
       "      <th>9</th>\n",
       "      <td>The Blue Lagoon</td>\n",
       "      <td>1980</td>\n",
       "      <td>104</td>\n",
       "      <td>5.8</td>\n",
       "    </tr>\n",
       "    <tr>\n",
       "      <th>10</th>\n",
       "      <td>The Guns of Navarone</td>\n",
       "      <td>1961</td>\n",
       "      <td>158</td>\n",
       "      <td>7.5</td>\n",
       "    </tr>\n",
       "    <tr>\n",
       "      <th>11</th>\n",
       "      <td>The Professionals</td>\n",
       "      <td>1966</td>\n",
       "      <td>117</td>\n",
       "      <td>7.3</td>\n",
       "    </tr>\n",
       "    <tr>\n",
       "      <th>12</th>\n",
       "      <td>Richard Pryor: Live in Concert</td>\n",
       "      <td>1979</td>\n",
       "      <td>78</td>\n",
       "      <td>8.1</td>\n",
       "    </tr>\n",
       "    <tr>\n",
       "      <th>13</th>\n",
       "      <td>White Christmas</td>\n",
       "      <td>1954</td>\n",
       "      <td>115</td>\n",
       "      <td>7.5</td>\n",
       "    </tr>\n",
       "    <tr>\n",
       "      <th>14</th>\n",
       "      <td>Cairo Station</td>\n",
       "      <td>1958</td>\n",
       "      <td>77</td>\n",
       "      <td>7.5</td>\n",
       "    </tr>\n",
       "    <tr>\n",
       "      <th>15</th>\n",
       "      <td>Hitler: A Career</td>\n",
       "      <td>1977</td>\n",
       "      <td>150</td>\n",
       "      <td>7.5</td>\n",
       "    </tr>\n",
       "    <tr>\n",
       "      <th>16</th>\n",
       "      <td>FTA</td>\n",
       "      <td>1972</td>\n",
       "      <td>97</td>\n",
       "      <td>6.2</td>\n",
       "    </tr>\n",
       "    <tr>\n",
       "      <th>17</th>\n",
       "      <td>Alexandria… Why?</td>\n",
       "      <td>1979</td>\n",
       "      <td>133</td>\n",
       "      <td>7.2</td>\n",
       "    </tr>\n",
       "    <tr>\n",
       "      <th>18</th>\n",
       "      <td>The Land</td>\n",
       "      <td>1969</td>\n",
       "      <td>129</td>\n",
       "      <td>8.1</td>\n",
       "    </tr>\n",
       "    <tr>\n",
       "      <th>19</th>\n",
       "      <td>Dostana</td>\n",
       "      <td>1980</td>\n",
       "      <td>161</td>\n",
       "      <td>2.1</td>\n",
       "    </tr>\n",
       "    <tr>\n",
       "      <th>20</th>\n",
       "      <td>Saladin the Victorious</td>\n",
       "      <td>1963</td>\n",
       "      <td>186</td>\n",
       "      <td>7.6</td>\n",
       "    </tr>\n",
       "  </tbody>\n",
       "</table>\n",
       "</div>"
      ],
      "text/plain": [
       "                                  title  release_year  runtime  imdb_score\n",
       "0   Five Came Back: The Reference Films          1945       51         6.6\n",
       "1                           Taxi Driver          1976      114         8.2\n",
       "2                           Deliverance          1972      109         7.7\n",
       "3       Monty Python and the Holy Grail          1975       91         8.2\n",
       "4                       The Dirty Dozen          1967      150         7.7\n",
       "5          Monty Python's Flying Circus          1969       30         8.8\n",
       "6                         Life of Brian          1979       94         8.0\n",
       "7                           Dirty Harry          1971      102         7.7\n",
       "8                      Bonnie and Clyde          1967      110         7.7\n",
       "9                       The Blue Lagoon          1980      104         5.8\n",
       "10                 The Guns of Navarone          1961      158         7.5\n",
       "11                    The Professionals          1966      117         7.3\n",
       "12       Richard Pryor: Live in Concert          1979       78         8.1\n",
       "13                      White Christmas          1954      115         7.5\n",
       "14                        Cairo Station          1958       77         7.5\n",
       "15                     Hitler: A Career          1977      150         7.5\n",
       "16                                  FTA          1972       97         6.2\n",
       "17                     Alexandria… Why?          1979      133         7.2\n",
       "18                             The Land          1969      129         8.1\n",
       "19                              Dostana          1980      161         2.1\n",
       "20               Saladin the Victorious          1963      186         7.6"
      ]
     },
     "execution_count": 13,
     "metadata": {},
     "output_type": "execute_result"
    }
   ],
   "source": [
    "titles.loc[0:20, [\"title\",\"release_year\",\"runtime\",\"imdb_score\"]]"
   ]
  },
  {
   "cell_type": "code",
   "execution_count": 14,
   "id": "e9557cf3",
   "metadata": {
    "execution": {
     "iopub.execute_input": "2024-02-27T10:11:03.321419Z",
     "iopub.status.busy": "2024-02-27T10:11:03.320839Z",
     "iopub.status.idle": "2024-02-27T10:11:03.325756Z",
     "shell.execute_reply": "2024-02-27T10:11:03.324796Z"
    },
    "papermill": {
     "duration": 0.018615,
     "end_time": "2024-02-27T10:11:03.327740",
     "exception": false,
     "start_time": "2024-02-27T10:11:03.309125",
     "status": "completed"
    },
    "tags": []
   },
   "outputs": [],
   "source": [
    "# #Check for outliers\n",
    "# numerical_columns=titles.select_dtypes(include=['number']).columns\n",
    "# z_scores=zscore(titles[\"numerical_columns\"])\n",
    "\n",
    "# # Detect outliers using z-score\n",
    "# outliers = titles[np.abs(z_scores) > 3]"
   ]
  },
  {
   "cell_type": "markdown",
   "id": "a6bd25c3",
   "metadata": {
    "papermill": {
     "duration": 0.009653,
     "end_time": "2024-02-27T10:11:03.347446",
     "exception": false,
     "start_time": "2024-02-27T10:11:03.337793",
     "status": "completed"
    },
    "tags": []
   },
   "source": [
    "# PLOTTING AND VISUALIZATION\n",
    "\n"
   ]
  },
  {
   "cell_type": "code",
   "execution_count": 15,
   "id": "52824e88",
   "metadata": {
    "execution": {
     "iopub.execute_input": "2024-02-27T10:11:03.369495Z",
     "iopub.status.busy": "2024-02-27T10:11:03.368805Z",
     "iopub.status.idle": "2024-02-27T10:11:03.646572Z",
     "shell.execute_reply": "2024-02-27T10:11:03.645110Z"
    },
    "papermill": {
     "duration": 0.291735,
     "end_time": "2024-02-27T10:11:03.649268",
     "exception": false,
     "start_time": "2024-02-27T10:11:03.357533",
     "status": "completed"
    },
    "tags": []
   },
   "outputs": [
    {
     "data": {
      "image/png": "[encoded data removed]",
      "text/plain": [
       "<Figure size 640x480 with 1 Axes>"
      ]
     },
     "metadata": {},
     "output_type": "display_data"
    }
   ],
   "source": [
    "plt.title(\"Distribution of films release yr\")\n",
    "plt.xlabel(\"release_year\")\n",
    "plt.ylabel(\"frequency\")\n",
    "plt.hist(titles['release_year'], bins=30)\n",
    "plt.show()\n"
   ]
  },
  {
   "cell_type": "code",
   "execution_count": 16,
   "id": "38cad174",
   "metadata": {
    "execution": {
     "iopub.execute_input": "2024-02-27T10:11:03.672468Z",
     "iopub.status.busy": "2024-02-27T10:11:03.671285Z",
     "iopub.status.idle": "2024-02-27T10:11:03.914489Z",
     "shell.execute_reply": "2024-02-27T10:11:03.913178Z"
    },
    "papermill": {
     "duration": 0.257877,
     "end_time": "2024-02-27T10:11:03.917284",
     "exception": false,
     "start_time": "2024-02-27T10:11:03.659407",
     "status": "completed"
    },
    "tags": []
   },
   "outputs": [
    {
     "data": {
      "image/png": "[encoded data removed]",
      "text/plain": [
       "<Figure size 640x480 with 1 Axes>"
      ]
     },
     "metadata": {},
     "output_type": "display_data"
    }
   ],
   "source": [
    "plt.title(\"Distribution of film ratings\")\n",
    "plt.xlabel(\"score\")\n",
    "plt.ylabel(\"frequency\")\n",
    "plt.hist(titles['imdb_score'], bins=30)\n",
    "plt.show()\n"
   ]
  },
  {
   "cell_type": "code",
   "execution_count": null,
   "id": "4944c8c5",
   "metadata": {
    "papermill": {
     "duration": 0.010483,
     "end_time": "2024-02-27T10:11:03.938509",
     "exception": false,
     "start_time": "2024-02-27T10:11:03.928026",
     "status": "completed"
    },
    "tags": []
   },
   "outputs": [],
   "source": []
  }
 ],
 "metadata": {
  "kaggle": {
   "accelerator": "none",
   "dataSources": [
    {
     "datasetId": 2178661,
     "sourceId": 3989707,
     "sourceType": "datasetVersion"
    }
   ],
   "dockerImageVersionId": 30646,
   "isGpuEnabled": false,
   "isInternetEnabled": false,
   "language": "python",
   "sourceType": "notebook"
  },
  "kernelspec": {
   "display_name": "Python 3",
   "language": "python",
   "name": "python3"
  },
  "language_info": {
   "codemirror_mode": {
    "name": "ipython",
    "version": 3
   },
   "file_extension": ".py",
   "mimetype": "text/x-python",
   "name": "python",
   "nbconvert_exporter": "python",
   "pygments_lexer": "ipython3",
   "version": "3.10.13"
  },
  "papermill": {
   "default_parameters": {},
   "duration": 6.914488,
   "end_time": "2024-02-27T10:11:04.470930",
   "environment_variables": {},
   "exception": null,
   "input_path": "__notebook__.ipynb",
   "output_path": "__notebook__.ipynb",
   "parameters": {},
   "start_time": "2024-02-27T10:10:57.556442",
   "version": "2.5.0"
  }
 },
 "nbformat": 4,
 "nbformat_minor": 5
}
